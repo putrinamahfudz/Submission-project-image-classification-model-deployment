{
  "nbformat": 4,
  "nbformat_minor": 0,
  "metadata": {
    "colab": {
      "provenance": [],
      "collapsed_sections": []
    },
    "kernelspec": {
      "name": "python3",
      "display_name": "Python 3"
    },
    "language_info": {
      "name": "python"
    }
  },
  "cells": [
    {
      "cell_type": "markdown",
      "source": [
        "## **PUTRI NUR AINI MAHFUDZ (M203Y0411)**\n",
        "## **Proyek Akhir : Image Classification Model Deployment**\n",
        "\n",
        "---\n",
        "\n"
      ],
      "metadata": {
        "id": "e-YgHwym2DEG"
      }
    },
    {
      "cell_type": "markdown",
      "source": [
        "## Berikut ini Proyek Akhir : Image Classification Model Deployment yang saya kerjakan dengan memenuhi kriteria submission yang ada.\n",
        "\n",
        "Dataset didapatkan dari : https://www.kaggle.com/datasets/alxmamaev/flowers-recognition"
      ],
      "metadata": {
        "id": "bomSx_y72eLi"
      }
    },
    {
      "cell_type": "markdown",
      "source": [
        "## Steps:"
      ],
      "metadata": {
        "id": "jBAtbQ9t2vu5"
      }
    },
    {
      "cell_type": "markdown",
      "source": [
        "### 1.  Melakukan ekstraksi pada file zip yang sudah disimpan di direktori"
      ],
      "metadata": {
        "id": "5hpVJ--L3CEk"
      }
    },
    {
      "cell_type": "code",
      "execution_count": 105,
      "metadata": {
        "id": "AUk6tuwl1es1"
      },
      "outputs": [],
      "source": [
        "import zipfile, os\n",
        "local_zip = '/tmp/flowers.zip'\n",
        "zip_ref = zipfile.ZipFile(local_zip, 'r')\n",
        "zip_ref.extractall('/tmp')\n",
        "zip_ref.close()"
      ]
    },
    {
      "cell_type": "markdown",
      "source": [
        "### 2. Melihat isi direktori"
      ],
      "metadata": {
        "id": "Iso8IceraSbV"
      }
    },
    {
      "cell_type": "code",
      "source": [
        "base_dir = os.path.join('/tmp/flowers')\n",
        "labels = os.listdir(base_dir)\n",
        "\n",
        "label_and_items = {}\n",
        "\n",
        "for label in labels:\n",
        "  items = os.listdir(os.path.join(base_dir, label))\n",
        "  label_and_items[label] = len(items)\n",
        "\n",
        "label_and_items"
      ],
      "metadata": {
        "colab": {
          "base_uri": "https://localhost:8080/"
        },
        "id": "P1IOe079Mxbp",
        "outputId": "90c11462-3512-4035-f3c5-1f93d280e35d"
      },
      "execution_count": 106,
      "outputs": [
        {
          "output_type": "execute_result",
          "data": {
            "text/plain": [
              "{'daisy': 764, 'sunflower': 733, 'tulip': 984, 'dandelion': 1052, 'rose': 784}"
            ]
          },
          "metadata": {},
          "execution_count": 106
        }
      ]
    },
    {
      "cell_type": "markdown",
      "source": [
        "### 3. Melakukan pre-processing pada dataset"
      ],
      "metadata": {
        "id": "PSeGOw69jzB4"
      }
    },
    {
      "cell_type": "code",
      "source": [
        "import shutil\n",
        "def remove_label(label):\n",
        "  shutil.rmtree(os.path.join(base_dir, label))\n",
        "  labels.remove(label)\n",
        "  label_and_items.pop(label)"
      ],
      "metadata": {
        "id": "OtjAzIEIgZo4"
      },
      "execution_count": 107,
      "outputs": []
    },
    {
      "cell_type": "code",
      "source": [
        "remove_label('dandelion')\n",
        "remove_label('tulip')"
      ],
      "metadata": {
        "id": "pNzBgMwhhio2"
      },
      "execution_count": 108,
      "outputs": []
    },
    {
      "cell_type": "code",
      "source": [
        "label_and_items"
      ],
      "metadata": {
        "colab": {
          "base_uri": "https://localhost:8080/"
        },
        "id": "-naH6em2gqVf",
        "outputId": "9cfbe741-39e5-4141-8570-0126fff61632"
      },
      "execution_count": 109,
      "outputs": [
        {
          "output_type": "execute_result",
          "data": {
            "text/plain": [
              "{'daisy': 764, 'sunflower': 733, 'rose': 784}"
            ]
          },
          "metadata": {},
          "execution_count": 109
        }
      ]
    },
    {
      "cell_type": "markdown",
      "source": [
        "### 4. Menerapkan ImageDataGenerator\n",
        "\n",
        "*   import ImageDataGenerator\n",
        "*   melakukan augmentasi gambar pada setiap sampel di dataset\n",
        "*   melakukan pemisahan data menjadi data latih dan data validasi"
      ],
      "metadata": {
        "id": "6tKqdN_aa3MH"
      }
    },
    {
      "cell_type": "code",
      "source": [
        "import tensorflow as tf\n",
        "from tensorflow import keras\n",
        "from keras.preprocessing.image import ImageDataGenerator\n",
        "\n",
        "train_datagen = ImageDataGenerator(rescale=1./255.0,\n",
        "                     rotation_range=20,\n",
        "                     shear_range=0.2,\n",
        "                     zoom_range=0.2,\n",
        "                     horizontal_flip=True,\n",
        "                     vertical_flip=True,\n",
        "                     fill_mode='nearest',\n",
        "                     validation_split=0.2)"
      ],
      "metadata": {
        "id": "PzEqZcG2NdiS"
      },
      "execution_count": 122,
      "outputs": []
    },
    {
      "cell_type": "markdown",
      "source": [
        "### 5. Menyiapkan data latih dan validasi dari kumpulan data gambar yang di-load dalam memori melalui fungsi flow()"
      ],
      "metadata": {
        "id": "oCrvxiK8cHb-"
      }
    },
    {
      "cell_type": "code",
      "source": [
        "train_generator = train_datagen.flow_from_directory(\n",
        "            base_dir,\n",
        "            target_size=(150, 150),\n",
        "            batch_size=32,\n",
        "            class_mode='categorical',\n",
        "            subset='training')\n",
        "    \n",
        "validation_generator = train_datagen.flow_from_directory(\n",
        "            base_dir,\n",
        "            target_size=(150, 150),\n",
        "            batch_size=32,\n",
        "            class_mode='categorical',\n",
        "            subset='validation')"
      ],
      "metadata": {
        "colab": {
          "base_uri": "https://localhost:8080/"
        },
        "id": "md3S6HbxNfX0",
        "outputId": "2fda9e5b-387d-4a87-8e67-92d431a10088"
      },
      "execution_count": 123,
      "outputs": [
        {
          "output_type": "stream",
          "name": "stdout",
          "text": [
            "Found 1827 images belonging to 3 classes.\n",
            "Found 454 images belonging to 3 classes.\n"
          ]
        }
      ]
    },
    {
      "cell_type": "markdown",
      "source": [
        "### 6. Membangun model menggunakan model sequential"
      ],
      "metadata": {
        "id": "VrJj5z95capG"
      }
    },
    {
      "cell_type": "code",
      "source": [
        "model = keras.Sequential([\n",
        "    tf.keras.layers.Conv2D(16, (3, 3), activation='relu', input_shape=(150, 150, 3)),\n",
        "    tf.keras.layers.MaxPooling2D(2, 2),\n",
        "    tf.keras.layers.Conv2D(32, (3,3), activation='relu'),\n",
        "    tf.keras.layers.MaxPooling2D(2,2),\n",
        "    tf.keras.layers.Conv2D(64, (3,3), activation='relu'),\n",
        "    tf.keras.layers.MaxPooling2D(2,2),\n",
        "    tf.keras.layers.Flatten(),\n",
        "    tf.keras.layers.Dense(512, activation='relu'),\n",
        "    tf.keras.layers.Dense(len(labels), activation='softmax')\n",
        "])"
      ],
      "metadata": {
        "id": "9ND9Vz0ANhUs"
      },
      "execution_count": 124,
      "outputs": []
    },
    {
      "cell_type": "markdown",
      "source": [
        "### 7. Melihat summary dari arsitektur model yang telah kita buat"
      ],
      "metadata": {
        "id": "VqBdUAmIcf9a"
      }
    },
    {
      "cell_type": "code",
      "source": [
        "model.summary()"
      ],
      "metadata": {
        "colab": {
          "base_uri": "https://localhost:8080/"
        },
        "id": "Oxyb_3WRcTZf",
        "outputId": "ecdd3d21-4bdb-4881-84d9-97f557cd2749"
      },
      "execution_count": 125,
      "outputs": [
        {
          "output_type": "stream",
          "name": "stdout",
          "text": [
            "Model: \"sequential_8\"\n",
            "_________________________________________________________________\n",
            " Layer (type)                Output Shape              Param #   \n",
            "=================================================================\n",
            " conv2d_24 (Conv2D)          (None, 148, 148, 16)      448       \n",
            "                                                                 \n",
            " max_pooling2d_24 (MaxPoolin  (None, 74, 74, 16)       0         \n",
            " g2D)                                                            \n",
            "                                                                 \n",
            " conv2d_25 (Conv2D)          (None, 72, 72, 32)        4640      \n",
            "                                                                 \n",
            " max_pooling2d_25 (MaxPoolin  (None, 36, 36, 32)       0         \n",
            " g2D)                                                            \n",
            "                                                                 \n",
            " conv2d_26 (Conv2D)          (None, 34, 34, 64)        18496     \n",
            "                                                                 \n",
            " max_pooling2d_26 (MaxPoolin  (None, 17, 17, 64)       0         \n",
            " g2D)                                                            \n",
            "                                                                 \n",
            " flatten_8 (Flatten)         (None, 18496)             0         \n",
            "                                                                 \n",
            " dense_16 (Dense)            (None, 512)               9470464   \n",
            "                                                                 \n",
            " dense_17 (Dense)            (None, 3)                 1539      \n",
            "                                                                 \n",
            "=================================================================\n",
            "Total params: 9,495,587\n",
            "Trainable params: 9,495,587\n",
            "Non-trainable params: 0\n",
            "_________________________________________________________________\n"
          ]
        }
      ]
    },
    {
      "cell_type": "markdown",
      "source": [
        "### 8. Melakukan compile model dengan 'adam' optimizer loss function 'categorical_crossentropy'"
      ],
      "metadata": {
        "id": "u45XTMI8cmqp"
      }
    },
    {
      "cell_type": "code",
      "source": [
        "model.compile(loss='categorical_crossentropy',\n",
        "              optimizer=tf.optimizers.Adam(),\n",
        "              metrics=['accuracy'])"
      ],
      "metadata": {
        "id": "MCo9MSAlcVEm"
      },
      "execution_count": 126,
      "outputs": []
    },
    {
      "cell_type": "markdown",
      "source": [
        "### 9. Menerapkan Callback"
      ],
      "metadata": {
        "id": "MfUgh49-dBfF"
      }
    },
    {
      "cell_type": "code",
      "source": [
        "class myCallback(tf.keras.callbacks.Callback):\n",
        "  def on_epoch_end(self, epoch, logs={}):\n",
        "    if logs.get('accuracy') >= 0.85 and logs.get('val_accuracy') >= 0.85:\n",
        "      print('STOP')\n",
        "      self.model.stop_training = True\n",
        "\n",
        "callbacks = myCallback()"
      ],
      "metadata": {
        "id": "cmkjzq_pNrzK"
      },
      "execution_count": 127,
      "outputs": []
    },
    {
      "cell_type": "markdown",
      "source": [
        "### 10. Melatih model dengan model.fit"
      ],
      "metadata": {
        "id": "NR9pMGRUdMOf"
      }
    },
    {
      "cell_type": "code",
      "source": [
        "history=model.fit(\n",
        "      train_generator,\n",
        "      steps_per_epoch=4,  #berapa batch yang akan dieksekusi pada setiap epoch\n",
        "      epochs=100, #tambahkan epochs jika akurasi model belum optimal\n",
        "      validation_data=validation_generator, #menampilkan akurasi pengujian data validasi\n",
        "      validation_steps=4,  #berapa batch yang akan dieksekusi pada setiap epoch\n",
        "      verbose=2,\n",
        "      callbacks=[callbacks])"
      ],
      "metadata": {
        "colab": {
          "base_uri": "https://localhost:8080/"
        },
        "id": "p3vmA0wDPrct",
        "outputId": "d2f0f129-b347-4699-84fe-8df076f934b2"
      },
      "execution_count": 128,
      "outputs": [
        {
          "output_type": "stream",
          "name": "stdout",
          "text": [
            "Epoch 1/100\n",
            "4/4 - 7s - loss: 2.1765 - accuracy: 0.2969 - val_loss: 1.1735 - val_accuracy: 0.3906 - 7s/epoch - 2s/step\n",
            "Epoch 2/100\n",
            "4/4 - 6s - loss: 1.1454 - accuracy: 0.3281 - val_loss: 1.0366 - val_accuracy: 0.5312 - 6s/epoch - 1s/step\n",
            "Epoch 3/100\n",
            "4/4 - 6s - loss: 0.9896 - accuracy: 0.5234 - val_loss: 0.9621 - val_accuracy: 0.5156 - 6s/epoch - 2s/step\n",
            "Epoch 4/100\n",
            "4/4 - 6s - loss: 0.8721 - accuracy: 0.6094 - val_loss: 0.9284 - val_accuracy: 0.5156 - 6s/epoch - 1s/step\n",
            "Epoch 5/100\n",
            "4/4 - 6s - loss: 0.8487 - accuracy: 0.6172 - val_loss: 0.9544 - val_accuracy: 0.5078 - 6s/epoch - 1s/step\n",
            "Epoch 6/100\n",
            "4/4 - 6s - loss: 0.8582 - accuracy: 0.6094 - val_loss: 0.8681 - val_accuracy: 0.6016 - 6s/epoch - 1s/step\n",
            "Epoch 7/100\n",
            "4/4 - 5s - loss: 0.8094 - accuracy: 0.6061 - val_loss: 0.8226 - val_accuracy: 0.6094 - 5s/epoch - 1s/step\n",
            "Epoch 8/100\n",
            "4/4 - 6s - loss: 0.8336 - accuracy: 0.6406 - val_loss: 0.7852 - val_accuracy: 0.6641 - 6s/epoch - 1s/step\n",
            "Epoch 9/100\n",
            "4/4 - 6s - loss: 0.6529 - accuracy: 0.7656 - val_loss: 0.6311 - val_accuracy: 0.7656 - 6s/epoch - 1s/step\n",
            "Epoch 10/100\n",
            "4/4 - 6s - loss: 0.6755 - accuracy: 0.7188 - val_loss: 0.6694 - val_accuracy: 0.7109 - 6s/epoch - 1s/step\n",
            "Epoch 11/100\n",
            "4/4 - 6s - loss: 0.6225 - accuracy: 0.7344 - val_loss: 0.6177 - val_accuracy: 0.7422 - 6s/epoch - 1s/step\n",
            "Epoch 12/100\n",
            "4/4 - 6s - loss: 0.5582 - accuracy: 0.7734 - val_loss: 0.6947 - val_accuracy: 0.7109 - 6s/epoch - 1s/step\n",
            "Epoch 13/100\n",
            "4/4 - 5s - loss: 0.6122 - accuracy: 0.7576 - val_loss: 0.7077 - val_accuracy: 0.6953 - 5s/epoch - 1s/step\n",
            "Epoch 14/100\n",
            "4/4 - 8s - loss: 0.5170 - accuracy: 0.8047 - val_loss: 0.5256 - val_accuracy: 0.8047 - 8s/epoch - 2s/step\n",
            "Epoch 15/100\n",
            "4/4 - 6s - loss: 0.6071 - accuracy: 0.7188 - val_loss: 0.6576 - val_accuracy: 0.7266 - 6s/epoch - 1s/step\n",
            "Epoch 16/100\n",
            "4/4 - 6s - loss: 0.5882 - accuracy: 0.7188 - val_loss: 0.6335 - val_accuracy: 0.7188 - 6s/epoch - 1s/step\n",
            "Epoch 17/100\n",
            "4/4 - 6s - loss: 0.4602 - accuracy: 0.8047 - val_loss: 0.8015 - val_accuracy: 0.6328 - 6s/epoch - 1s/step\n",
            "Epoch 18/100\n",
            "4/4 - 6s - loss: 0.5670 - accuracy: 0.7656 - val_loss: 0.6446 - val_accuracy: 0.7344 - 6s/epoch - 1s/step\n",
            "Epoch 19/100\n",
            "4/4 - 6s - loss: 0.5124 - accuracy: 0.7969 - val_loss: 0.6196 - val_accuracy: 0.7891 - 6s/epoch - 1s/step\n",
            "Epoch 20/100\n",
            "4/4 - 6s - loss: 0.4429 - accuracy: 0.8281 - val_loss: 0.6705 - val_accuracy: 0.7109 - 6s/epoch - 1s/step\n",
            "Epoch 21/100\n",
            "4/4 - 6s - loss: 0.4077 - accuracy: 0.8672 - val_loss: 0.6135 - val_accuracy: 0.7969 - 6s/epoch - 1s/step\n",
            "Epoch 22/100\n",
            "4/4 - 6s - loss: 0.4916 - accuracy: 0.7891 - val_loss: 0.6169 - val_accuracy: 0.8203 - 6s/epoch - 1s/step\n",
            "Epoch 23/100\n",
            "4/4 - 6s - loss: 0.4735 - accuracy: 0.7891 - val_loss: 0.6250 - val_accuracy: 0.8125 - 6s/epoch - 1s/step\n",
            "Epoch 24/100\n",
            "4/4 - 8s - loss: 0.5377 - accuracy: 0.7500 - val_loss: 0.6285 - val_accuracy: 0.7969 - 8s/epoch - 2s/step\n",
            "Epoch 25/100\n",
            "4/4 - 6s - loss: 0.4735 - accuracy: 0.8281 - val_loss: 0.5525 - val_accuracy: 0.7812 - 6s/epoch - 1s/step\n",
            "Epoch 26/100\n",
            "4/4 - 5s - loss: 0.5331 - accuracy: 0.7576 - val_loss: 0.5872 - val_accuracy: 0.7578 - 5s/epoch - 1s/step\n",
            "Epoch 27/100\n",
            "4/4 - 6s - loss: 0.6698 - accuracy: 0.7344 - val_loss: 0.7384 - val_accuracy: 0.7266 - 6s/epoch - 1s/step\n",
            "Epoch 28/100\n",
            "4/4 - 6s - loss: 0.5973 - accuracy: 0.7500 - val_loss: 0.6104 - val_accuracy: 0.7578 - 6s/epoch - 1s/step\n",
            "Epoch 29/100\n",
            "4/4 - 6s - loss: 0.5391 - accuracy: 0.8047 - val_loss: 0.5414 - val_accuracy: 0.7812 - 6s/epoch - 1s/step\n",
            "Epoch 30/100\n",
            "4/4 - 6s - loss: 0.6376 - accuracy: 0.7578 - val_loss: 0.7221 - val_accuracy: 0.6641 - 6s/epoch - 1s/step\n",
            "Epoch 31/100\n",
            "4/4 - 6s - loss: 0.5450 - accuracy: 0.7734 - val_loss: 0.6725 - val_accuracy: 0.7344 - 6s/epoch - 1s/step\n",
            "Epoch 32/100\n",
            "4/4 - 6s - loss: 0.4019 - accuracy: 0.8438 - val_loss: 0.5463 - val_accuracy: 0.7812 - 6s/epoch - 1s/step\n",
            "Epoch 33/100\n",
            "4/4 - 6s - loss: 0.5360 - accuracy: 0.7891 - val_loss: 0.6219 - val_accuracy: 0.7656 - 6s/epoch - 1s/step\n",
            "Epoch 34/100\n",
            "4/4 - 7s - loss: 0.5317 - accuracy: 0.8047 - val_loss: 0.6671 - val_accuracy: 0.6797 - 7s/epoch - 2s/step\n",
            "Epoch 35/100\n",
            "4/4 - 6s - loss: 0.5197 - accuracy: 0.7969 - val_loss: 0.7296 - val_accuracy: 0.7188 - 6s/epoch - 1s/step\n",
            "Epoch 36/100\n",
            "4/4 - 6s - loss: 0.5877 - accuracy: 0.7656 - val_loss: 0.6777 - val_accuracy: 0.7422 - 6s/epoch - 1s/step\n",
            "Epoch 37/100\n",
            "4/4 - 6s - loss: 0.5965 - accuracy: 0.7734 - val_loss: 0.6555 - val_accuracy: 0.6875 - 6s/epoch - 1s/step\n",
            "Epoch 38/100\n",
            "4/4 - 5s - loss: 0.4453 - accuracy: 0.8182 - val_loss: 0.5926 - val_accuracy: 0.7422 - 5s/epoch - 1s/step\n",
            "Epoch 39/100\n",
            "4/4 - 5s - loss: 0.5287 - accuracy: 0.7475 - val_loss: 0.6698 - val_accuracy: 0.6953 - 5s/epoch - 1s/step\n",
            "Epoch 40/100\n",
            "4/4 - 6s - loss: 0.6839 - accuracy: 0.7266 - val_loss: 0.8788 - val_accuracy: 0.6328 - 6s/epoch - 1s/step\n",
            "Epoch 41/100\n",
            "4/4 - 6s - loss: 0.5914 - accuracy: 0.7812 - val_loss: 0.5174 - val_accuracy: 0.7891 - 6s/epoch - 1s/step\n",
            "Epoch 42/100\n",
            "4/4 - 6s - loss: 0.5527 - accuracy: 0.8281 - val_loss: 0.5819 - val_accuracy: 0.7500 - 6s/epoch - 1s/step\n",
            "Epoch 43/100\n",
            "4/4 - 6s - loss: 0.5373 - accuracy: 0.8359 - val_loss: 0.5466 - val_accuracy: 0.8047 - 6s/epoch - 1s/step\n",
            "Epoch 44/100\n",
            "4/4 - 6s - loss: 0.4985 - accuracy: 0.8047 - val_loss: 0.6383 - val_accuracy: 0.7422 - 6s/epoch - 1s/step\n",
            "Epoch 45/100\n",
            "4/4 - 8s - loss: 0.5665 - accuracy: 0.7812 - val_loss: 0.4890 - val_accuracy: 0.8047 - 8s/epoch - 2s/step\n",
            "Epoch 46/100\n",
            "4/4 - 6s - loss: 0.4007 - accuracy: 0.8750 - val_loss: 0.5790 - val_accuracy: 0.7891 - 6s/epoch - 1s/step\n",
            "Epoch 47/100\n",
            "4/4 - 6s - loss: 0.4560 - accuracy: 0.8203 - val_loss: 0.4820 - val_accuracy: 0.8125 - 6s/epoch - 1s/step\n",
            "Epoch 48/100\n",
            "4/4 - 6s - loss: 0.4157 - accuracy: 0.7891 - val_loss: 0.6290 - val_accuracy: 0.8125 - 6s/epoch - 1s/step\n",
            "Epoch 49/100\n",
            "4/4 - 6s - loss: 0.4957 - accuracy: 0.8203 - val_loss: 0.4558 - val_accuracy: 0.8047 - 6s/epoch - 1s/step\n",
            "Epoch 50/100\n",
            "4/4 - 6s - loss: 0.5357 - accuracy: 0.8359 - val_loss: 0.5165 - val_accuracy: 0.8125 - 6s/epoch - 1s/step\n",
            "Epoch 51/100\n",
            "4/4 - 6s - loss: 0.4504 - accuracy: 0.8047 - val_loss: 0.6102 - val_accuracy: 0.7656 - 6s/epoch - 1s/step\n",
            "Epoch 52/100\n",
            "4/4 - 5s - loss: 0.4417 - accuracy: 0.8182 - val_loss: 0.5155 - val_accuracy: 0.8203 - 5s/epoch - 1s/step\n",
            "Epoch 53/100\n",
            "4/4 - 6s - loss: 0.3989 - accuracy: 0.8750 - val_loss: 0.6417 - val_accuracy: 0.7891 - 6s/epoch - 1s/step\n",
            "Epoch 54/100\n",
            "4/4 - 6s - loss: 0.6147 - accuracy: 0.8125 - val_loss: 0.6072 - val_accuracy: 0.7734 - 6s/epoch - 1s/step\n",
            "Epoch 55/100\n",
            "4/4 - 6s - loss: 0.4420 - accuracy: 0.8047 - val_loss: 0.5348 - val_accuracy: 0.7734 - 6s/epoch - 1s/step\n",
            "Epoch 56/100\n",
            "4/4 - 6s - loss: 0.5576 - accuracy: 0.7656 - val_loss: 0.5349 - val_accuracy: 0.8359 - 6s/epoch - 1s/step\n",
            "Epoch 57/100\n",
            "4/4 - 6s - loss: 0.5639 - accuracy: 0.7578 - val_loss: 0.5120 - val_accuracy: 0.8125 - 6s/epoch - 2s/step\n",
            "Epoch 58/100\n",
            "4/4 - 6s - loss: 0.4538 - accuracy: 0.8047 - val_loss: 0.4703 - val_accuracy: 0.8047 - 6s/epoch - 1s/step\n",
            "Epoch 59/100\n",
            "4/4 - 6s - loss: 0.4815 - accuracy: 0.8203 - val_loss: 0.5790 - val_accuracy: 0.7969 - 6s/epoch - 1s/step\n",
            "Epoch 60/100\n",
            "4/4 - 6s - loss: 0.3924 - accuracy: 0.8516 - val_loss: 0.5304 - val_accuracy: 0.7891 - 6s/epoch - 1s/step\n",
            "Epoch 61/100\n",
            "4/4 - 6s - loss: 0.5339 - accuracy: 0.7344 - val_loss: 0.7814 - val_accuracy: 0.7031 - 6s/epoch - 1s/step\n",
            "Epoch 62/100\n",
            "4/4 - 6s - loss: 0.5632 - accuracy: 0.7500 - val_loss: 0.5220 - val_accuracy: 0.8203 - 6s/epoch - 1s/step\n",
            "Epoch 63/100\n",
            "4/4 - 6s - loss: 0.5502 - accuracy: 0.7812 - val_loss: 0.5555 - val_accuracy: 0.8047 - 6s/epoch - 1s/step\n",
            "Epoch 64/100\n",
            "4/4 - 6s - loss: 0.4809 - accuracy: 0.8125 - val_loss: 0.5218 - val_accuracy: 0.8125 - 6s/epoch - 1s/step\n",
            "Epoch 65/100\n",
            "4/4 - 6s - loss: 0.3772 - accuracy: 0.8828 - val_loss: 0.4980 - val_accuracy: 0.8203 - 6s/epoch - 1s/step\n",
            "Epoch 66/100\n",
            "4/4 - 6s - loss: 0.4248 - accuracy: 0.8203 - val_loss: 0.4551 - val_accuracy: 0.8359 - 6s/epoch - 1s/step\n",
            "Epoch 67/100\n",
            "4/4 - 6s - loss: 0.5358 - accuracy: 0.8281 - val_loss: 0.5762 - val_accuracy: 0.8203 - 6s/epoch - 1s/step\n",
            "Epoch 68/100\n",
            "4/4 - 7s - loss: 0.4898 - accuracy: 0.8203 - val_loss: 0.5602 - val_accuracy: 0.7891 - 7s/epoch - 2s/step\n",
            "Epoch 69/100\n",
            "4/4 - 6s - loss: 0.3757 - accuracy: 0.8750 - val_loss: 0.5643 - val_accuracy: 0.7812 - 6s/epoch - 1s/step\n",
            "Epoch 70/100\n",
            "4/4 - 6s - loss: 0.3895 - accuracy: 0.8516 - val_loss: 0.4950 - val_accuracy: 0.8359 - 6s/epoch - 1s/step\n",
            "Epoch 71/100\n",
            "STOP\n",
            "4/4 - 6s - loss: 0.3840 - accuracy: 0.8594 - val_loss: 0.4321 - val_accuracy: 0.8516 - 6s/epoch - 1s/step\n"
          ]
        }
      ]
    },
    {
      "cell_type": "markdown",
      "source": [
        "### 11. Melihat visualisasi nilai akurasi dan loss"
      ],
      "metadata": {
        "id": "6lcHwWTIvJd7"
      }
    },
    {
      "cell_type": "code",
      "source": [
        "import matplotlib.pyplot as plt    \n",
        "\n",
        "acc = history.history['accuracy']                                                \n",
        "val_acc = history.history['val_accuracy']                                         \n",
        "loss = history.history['loss']                                                    \n",
        "val_loss = history.history['val_loss']                                            \n",
        "\n",
        "epochs = range(len(acc))                                                          \n",
        "\n",
        "plt.plot(epochs, acc, 'r', label='Accuracy')                                                 \n",
        "plt.plot(epochs, val_acc, 'b', label='Val_accuracy')                          \n",
        "plt.title('Accuracy & Val_accuracy')                                        \n",
        "plt.legend(loc=0)                                                                 \n",
        "plt.figure()                                                                      \n",
        "plt.show()\n",
        "\n",
        "plt.plot(epochs, loss, 'r', label='Training loss')\n",
        "plt.plot(epochs, val_loss, 'b', label='Validation_loss')\n",
        "plt.title('Loss & Validation_Loss')\n",
        "plt.legend(loc=0)\n",
        "plt.figure()\n",
        "plt.show()\n"
      ],
      "metadata": {
        "colab": {
          "base_uri": "https://localhost:8080/",
          "height": 580
        },
        "id": "UlCYEIp8Rfwm",
        "outputId": "0d755018-bb9f-4c32-d31f-6df6b9a49c87"
      },
      "execution_count": 132,
      "outputs": [
        {
          "output_type": "display_data",
          "data": {
            "text/plain": [
              "<Figure size 432x288 with 1 Axes>"
            ],
            "image/png": "[encoded data removed]"
          },
          "metadata": {
            "needs_background": "light"
          }
        },
        {
          "output_type": "display_data",
          "data": {
            "text/plain": [
              "<Figure size 432x288 with 0 Axes>"
            ]
          },
          "metadata": {}
        },
        {
          "output_type": "display_data",
          "data": {
            "text/plain": [
              "<Figure size 432x288 with 1 Axes>"
            ],
            "image/png": "[encoded data removed]"
          },
          "metadata": {
            "needs_background": "light"
          }
        },
        {
          "output_type": "display_data",
          "data": {
            "text/plain": [
              "<Figure size 432x288 with 0 Axes>"
            ]
          },
          "metadata": {}
        }
      ]
    },
    {
      "cell_type": "code",
      "source": [
        "print(train_generator.class_indices)"
      ],
      "metadata": {
        "colab": {
          "base_uri": "https://localhost:8080/"
        },
        "id": "89MfkaRZvoON",
        "outputId": "ece92381-3375-45d7-e3af-77fbea17b950"
      },
      "execution_count": 133,
      "outputs": [
        {
          "output_type": "stream",
          "name": "stdout",
          "text": [
            "{'daisy': 0, 'rose': 1, 'sunflower': 2}\n"
          ]
        }
      ]
    },
    {
      "cell_type": "markdown",
      "source": [
        "### 12. Uji coba model dengan mengupload gambar"
      ],
      "metadata": {
        "id": "M2XCtEtivTyQ"
      }
    },
    {
      "cell_type": "code",
      "source": [
        "import numpy as np\n",
        "from google.colab import files\n",
        "import matplotlib.pyplot as plt\n",
        "import matplotlib.image as mpimg\n",
        "%matplotlib inline\n",
        " \n",
        "uploaded = files.upload()\n",
        " \n",
        "for fn in uploaded.keys():\n",
        " \n",
        "  path = fn\n",
        "  img = image.load_img(path, target_size=(150, 150))\n",
        " \n",
        "  imgplot = plt.imshow(img)\n",
        "  x = image.img_to_array(img)\n",
        "  x = np.expand_dims(x, axis=0)\n",
        "  images = np.vstack([x])\n",
        " \n",
        "  classes = model.predict(images, batch_size=32)  \n",
        "  print(fn)\n",
        "  if classes[0][0]==1:\n",
        "    print('daisy')                                 \n",
        "  elif classes[0][1]==1:\n",
        "    print('rose')                                   \n",
        "  elif classes[0][2]==1:\n",
        "    print('sunflower')                                \n",
        "  else:\n",
        "    print('UNKNOWN')"
      ],
      "metadata": {
        "colab": {
          "resources": {
            "http://localhost:8080/nbextensions/google.colab/files.js": {
              "data": "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",
              "ok": true,
              "headers": [
                [
                  "content-type",
                  "application/javascript"
                ]
              ],
              "status": 200,
              "status_text": ""
            }
          },
          "base_uri": "https://localhost:8080/",
          "height": 38
        },
        "id": "cVdbhIuYvFnu",
        "outputId": "db00275a-fb42-4c68-c8ad-a0cb688ebf8a"
      },
      "execution_count": null,
      "outputs": [
        {
          "output_type": "display_data",
          "data": {
            "text/plain": [
              "<IPython.core.display.HTML object>"
            ],
            "text/html": [
              "\n",
              "     <input type=\"file\" id=\"files-89ba42a2-0961-44b6-a834-eb18c6a98fb1\" name=\"files[]\" multiple disabled\n",
              "        style=\"border:none\" />\n",
              "     <output id=\"result-89ba42a2-0961-44b6-a834-eb18c6a98fb1\">\n",
              "      Upload widget is only available when the cell has been executed in the\n",
              "      current browser session. Please rerun this cell to enable.\n",
              "      </output>\n",
              "      <script src=\"/nbextensions/google.colab/files.js\"></script> "
            ]
          },
          "metadata": {}
        }
      ]
    },
    {
      "cell_type": "markdown",
      "source": [
        "### 13. Menyimpan model dalam formatTF-Lite"
      ],
      "metadata": {
        "id": "xG3Bl1Y1zOiy"
      }
    },
    {
      "cell_type": "code",
      "source": [
        "converter = tf.lite.TFLiteConverter.from_keras_model(model)\n",
        "tflite_model = converter.convert()"
      ],
      "metadata": {
        "id": "QLfZyMabR_kB"
      },
      "execution_count": 137,
      "outputs": []
    },
    {
      "cell_type": "code",
      "source": [
        "with tf.io.gfile.GFile(\"model.tflite\", \"wb\") as f:\n",
        "  f.write(tflite_model)"
      ],
      "metadata": {
        "id": "3H52xRdWSIbd"
      },
      "execution_count": 138,
      "outputs": []
    },
    {
      "cell_type": "markdown",
      "source": [
        "## **Terimakasih.**\n",
        "\n",
        "## **Submission project kelas Belajar Pengembangan Machine Learning - 2022** "
      ],
      "metadata": {
        "id": "xa478bhVzyQ8"
      }
    }
  ]
}